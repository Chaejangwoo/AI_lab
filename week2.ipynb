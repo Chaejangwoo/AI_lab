{
 "cells": [
  {
   "cell_type": "code",
   "execution_count": 1,
   "id": "85223cac-f77c-46d5-8064-e03675c2e948",
   "metadata": {},
   "outputs": [
    {
     "name": "stdout",
     "output_type": "stream",
     "text": [
      "PyTorch is successfully imported!\n",
      "PyTorch version: 2.8.0\n",
      "✓ MPS is available! Using mps for computation.\n",
      "Device count: 1\n",
      "✓ Test tensor created on 'mps:0': [1 2 3 4 5]\n",
      "Tensor shape: torch.Size([5])\n",
      "✓ Basic operation test (squaring): [ 1  4  9 16 25]\n",
      "\n",
      "PyTorch is working correctly with MPS acceleration!\n"
     ]
    }
   ],
   "source": [
    "import torch\n",
    "\n",
    "# PyTorch 버전 출력\n",
    "print(f\"PyTorch is successfully imported!\")\n",
    "print(f\"PyTorch version: {torch.__version__}\")\n",
    "\n",
    "# Apple Silicon (M1/M2/M3) GPU (MPS) 사용 가능 여부 확인\n",
    "if torch.backends.mps.is_available():\n",
    "    device = torch.device(\"mps\")\n",
    "    print(f\"✓ MPS is available! Using {device} for computation.\")\n",
    "    print(f\"Device count: {torch.cuda.device_count() if torch.cuda.is_available() else 1}\") # MPS는 단일 장치로 표시\n",
    "else:\n",
    "    device = torch.device(\"cpu\")\n",
    "    print(\"MPS not available, using CPU instead.\")\n",
    "\n",
    "# 테스트 텐서 생성\n",
    "try:\n",
    "    test_tensor = torch.tensor([1, 2, 3, 4, 5], device=device)\n",
    "    print(f\"✓ Test tensor created on '{test_tensor.device}': {test_tensor.cpu().numpy()}\")\n",
    "    print(f\"Tensor shape: {test_tensor.shape}\")\n",
    "\n",
    "    # 기본 연산 테스트 (제곱)\n",
    "    squared_tensor = test_tensor ** 2\n",
    "    print(f\"✓ Basic operation test (squaring): {squared_tensor.cpu().numpy()}\")\n",
    "    print(\"\\nPyTorch is working correctly with MPS acceleration!\")\n",
    "except Exception as e:\n",
    "    print(f\"An error occurred: {e}\")"
   ]
  },
  {
   "cell_type": "code",
   "execution_count": null,
   "id": "ee686c34-b85e-49a1-80f3-f0c52438e472",
   "metadata": {},
   "outputs": [],
   "source": []
  }
 ],
 "metadata": {
  "kernelspec": {
   "display_name": "Python 3 (ipykernel)",
   "language": "python",
   "name": "python3"
  },
  "language_info": {
   "codemirror_mode": {
    "name": "ipython",
    "version": 3
   },
   "file_extension": ".py",
   "mimetype": "text/x-python",
   "name": "python",
   "nbconvert_exporter": "python",
   "pygments_lexer": "ipython3",
   "version": "3.10.18"
  }
 },
 "nbformat": 4,
 "nbformat_minor": 5
}
