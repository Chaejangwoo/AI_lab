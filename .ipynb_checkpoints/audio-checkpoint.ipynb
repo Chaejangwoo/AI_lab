{
 "cells": [
  {
   "cell_type": "code",
   "execution_count": null,
   "id": "355f3f22",
   "metadata": {
    "vscode": {
     "languageId": "plaintext"
    }
   },
   "outputs": [],
   "source": [
    "import torch\n",
    "import torchaudio\n",
    "\n",
    "print(torch._version_)\n",
    "print(torchaudio._version_)"
   ]
  }
 ],
 "metadata": {
  "language_info": {
   "name": "python"
  }
 },
 "nbformat": 4,
 "nbformat_minor": 5
}
